{
 "cells": [
  {
   "cell_type": "code",
   "execution_count": 2,
   "id": "9098ee7f-c4d0-4b0b-8733-15f7f2969a91",
   "metadata": {},
   "outputs": [],
   "source": [
    "import spacy\n",
    "import nltk\n",
    "\n",
    "with open(\"news_story.txt\",\"r\") as f:\n",
    "    news_text = f.read()\n"
   ]
  },
  {
   "cell_type": "code",
   "execution_count": 4,
   "id": "2a5772b4-c001-4917-b2b3-0fb5583dab7d",
   "metadata": {},
   "outputs": [
    {
     "data": {
      "text/plain": [
       "'Inflation rose again in April, continuing a climb that has pushed consumers to the brink and is threatening the economic expansion, the Bureau of Labor Statistics reported Wednesday.\\n\\nThe consumer price index, a broad-based measure of prices for goods and services, increased 8.3% from a year ago, higher than the Dow Jones estimate for an 8.1% gain. That represented a slight ease from Marchâ€™s peak but was still close to the highest level since the summer of 1982.\\n\\nRemoving volatile food and ene'"
      ]
     },
     "execution_count": 4,
     "metadata": {},
     "output_type": "execute_result"
    }
   ],
   "source": [
    "news_text[:500]"
   ]
  },
  {
   "cell_type": "code",
   "execution_count": 6,
   "id": "404b041e-6d5f-49f7-b234-2951b674a638",
   "metadata": {},
   "outputs": [],
   "source": [
    "nlp = spacy.load(\"en_core_web_sm\")\n",
    "\n",
    "doc=nlp(news_text)\n",
    "\n",
    "numerical_tokens=[]\n",
    "noun_tokens=[]\n",
    "\n",
    "for tokens in doc:\n",
    "    if tokens.pos=='NOUN':\n",
    "        noun_tokens.append(tokens)\n",
    "    elif tokens.pos=='NUM':\n",
    "        numerical_tokens.append(tokens)"
   ]
  },
  {
   "cell_type": "code",
   "execution_count": null,
   "id": "7e695fb1-208b-4ef6-a88a-0d91c9126983",
   "metadata": {},
   "outputs": [],
   "source": []
  }
 ],
 "metadata": {
  "kernelspec": {
   "display_name": "Python 3 (ipykernel)",
   "language": "python",
   "name": "python3"
  },
  "language_info": {
   "codemirror_mode": {
    "name": "ipython",
    "version": 3
   },
   "file_extension": ".py",
   "mimetype": "text/x-python",
   "name": "python",
   "nbconvert_exporter": "python",
   "pygments_lexer": "ipython3",
   "version": "3.12.4"
  },
  "widgets": {
   "application/vnd.jupyter.widget-state+json": {
    "state": {},
    "version_major": 2,
    "version_minor": 0
   }
  }
 },
 "nbformat": 4,
 "nbformat_minor": 5
}
