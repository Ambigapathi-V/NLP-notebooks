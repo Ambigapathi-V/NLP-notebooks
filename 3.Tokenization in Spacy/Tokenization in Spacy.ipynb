{
 "cells": [
  {
   "cell_type": "code",
   "execution_count": 2,
   "id": "09bcfad6-caad-4dd1-9b6f-bc9db1bf39bf",
   "metadata": {},
   "outputs": [],
   "source": [
    "import spacy"
   ]
  },
  {
   "cell_type": "code",
   "execution_count": 8,
   "id": "acdad09c-45d2-4763-ba86-b87110e570d2",
   "metadata": {},
   "outputs": [
    {
     "name": "stdout",
     "output_type": "stream",
     "text": [
      "\"\n",
      "Let\n",
      "'s\n",
      "go\n",
      "to\n",
      "N.Y.\n",
      "!\n",
      "\"\n"
     ]
    }
   ],
   "source": [
    "nlp=spacy.blank('en')\n",
    "\n",
    "doc=nlp('''\"Let's go to N.Y.!\"''')\n",
    "\n",
    "for token in doc:\n",
    "    print(token)\n",
    "    "
   ]
  },
  {
   "cell_type": "code",
   "execution_count": 9,
   "id": "db6a1be0-2e8c-4a1f-8392-33ff70691f90",
   "metadata": {},
   "outputs": [
    {
     "data": {
      "text/plain": [
       "\""
      ]
     },
     "execution_count": 9,
     "metadata": {},
     "output_type": "execute_result"
    }
   ],
   "source": [
    "doc[-1]"
   ]
  },
  {
   "cell_type": "code",
   "execution_count": 10,
   "id": "9b0ddfec-f266-4ffb-a2e7-c9d507f79207",
   "metadata": {},
   "outputs": [
    {
     "data": {
      "text/plain": [
       "spacy.tokens.span.Span"
      ]
     },
     "execution_count": 10,
     "metadata": {},
     "output_type": "execute_result"
    }
   ],
   "source": [
    "span=doc[1:5]\n",
    "type(span)"
   ]
  },
  {
   "cell_type": "code",
   "execution_count": 11,
   "id": "1ef018b3-2062-4177-b0df-5be69b3a92ce",
   "metadata": {},
   "outputs": [],
   "source": [
    "doc=nlp(\"Tony gave two $ to Peter.\")"
   ]
  },
  {
   "cell_type": "code",
   "execution_count": 12,
   "id": "e87d24e3-b48d-4e71-ac13-d2fbd0500d69",
   "metadata": {},
   "outputs": [
    {
     "data": {
      "text/plain": [
       "Tony"
      ]
     },
     "execution_count": 12,
     "metadata": {},
     "output_type": "execute_result"
    }
   ],
   "source": [
    "token0=doc[0]\n",
    "token0"
   ]
  },
  {
   "cell_type": "code",
   "execution_count": 13,
   "id": "c9449952-bf58-45c9-bf07-9e6bd05d0251",
   "metadata": {},
   "outputs": [
    {
     "data": {
      "text/plain": [
       "True"
      ]
     },
     "execution_count": 13,
     "metadata": {},
     "output_type": "execute_result"
    }
   ],
   "source": [
    "token0.is_alpha"
   ]
  },
  {
   "cell_type": "code",
   "execution_count": 14,
   "id": "42c46fc6-5d39-480c-92a4-b65bfdd54c6d",
   "metadata": {},
   "outputs": [
    {
     "data": {
      "text/plain": [
       "False"
      ]
     },
     "execution_count": 14,
     "metadata": {},
     "output_type": "execute_result"
    }
   ],
   "source": [
    "token0.like_num"
   ]
  },
  {
   "cell_type": "code",
   "execution_count": 15,
   "id": "2ea6db27-4d83-4559-8ea8-9e9d6db1e4e0",
   "metadata": {},
   "outputs": [
    {
     "data": {
      "text/plain": [
       "'two'"
      ]
     },
     "execution_count": 15,
     "metadata": {},
     "output_type": "execute_result"
    }
   ],
   "source": [
    "token2=doc[2]\n",
    "token2.text"
   ]
  },
  {
   "cell_type": "code",
   "execution_count": 16,
   "id": "277854a1-7b05-43e6-baab-f7684eef61a9",
   "metadata": {},
   "outputs": [
    {
     "data": {
      "text/plain": [
       "True"
      ]
     },
     "execution_count": 16,
     "metadata": {},
     "output_type": "execute_result"
    }
   ],
   "source": [
    "token2.like_num"
   ]
  },
  {
   "cell_type": "code",
   "execution_count": 17,
   "id": "75eace36-2898-4f17-9ba4-4de91e46100d",
   "metadata": {},
   "outputs": [
    {
     "data": {
      "text/plain": [
       "'$'"
      ]
     },
     "execution_count": 17,
     "metadata": {},
     "output_type": "execute_result"
    }
   ],
   "source": [
    "token3=doc[3]\n",
    "token3.text"
   ]
  },
  {
   "cell_type": "code",
   "execution_count": 18,
   "id": "bdcdb375-d7a4-4d67-b233-da97f542494f",
   "metadata": {},
   "outputs": [
    {
     "data": {
      "text/plain": [
       "True"
      ]
     },
     "execution_count": 18,
     "metadata": {},
     "output_type": "execute_result"
    }
   ],
   "source": [
    "token3.is_currency"
   ]
  },
  {
   "cell_type": "code",
   "execution_count": 20,
   "id": "b9852996-36b4-4b20-957a-51390e2c06d4",
   "metadata": {},
   "outputs": [
    {
     "name": "stdout",
     "output_type": "stream",
     "text": [
      "Tony ==> index 0 is_alpha: True is_punct: False is-currency False\n",
      "gave ==> index 1 is_alpha: True is_punct: False is-currency False\n",
      "two ==> index 2 is_alpha: True is_punct: True is-currency False\n",
      "$ ==> index 3 is_alpha: False is_punct: False is-currency True\n",
      "to ==> index 4 is_alpha: True is_punct: False is-currency False\n",
      "Peter ==> index 5 is_alpha: True is_punct: False is-currency False\n",
      ". ==> index 6 is_alpha: False is_punct: False is-currency False\n"
     ]
    }
   ],
   "source": [
    "for token in doc:\n",
    "    print(\n",
    "        token,'==>','index',token.i,\n",
    "        'is_alpha:',token.is_alpha,\n",
    "        'is_punct:',token.like_num,\n",
    "        'is-currency',token.is_currency,\n",
    "    )"
   ]
  },
  {
   "cell_type": "code",
   "execution_count": 21,
   "id": "4733e577-50ce-431b-8c73-992c01fc3bc9",
   "metadata": {},
   "outputs": [
    {
     "data": {
      "text/plain": [
       "['Dayton high school, 8th grade students information\\n',\n",
       " '==================================================\\n',\n",
       " '\\n',\n",
       " 'Name\\tbirth day   \\temail\\n',\n",
       " '-----\\t------------\\t------\\n',\n",
       " 'Virat   5 June, 1882    virat@kohli.com\\n',\n",
       " 'Maria\\t12 April, 2001  maria@sharapova.com\\n',\n",
       " 'Serena  24 June, 1998   serena@williams.com \\n',\n",
       " 'Joe      1 May, 1997    joe@root.com\\n',\n",
       " '\\n',\n",
       " '\\n',\n",
       " '\\n']"
      ]
     },
     "execution_count": 21,
     "metadata": {},
     "output_type": "execute_result"
    }
   ],
   "source": [
    "with open('students.txt') as f:\n",
    "    text=f.readlines()\n",
    "text"
   ]
  },
  {
   "cell_type": "code",
   "execution_count": 23,
   "id": "484f17b9-c351-4348-9fad-f8f868dd6d63",
   "metadata": {},
   "outputs": [
    {
     "data": {
      "text/plain": [
       "'Dayton high school, 8th grade students information\\n ==================================================\\n \\n Name\\tbirth day   \\temail\\n -----\\t------------\\t------\\n Virat   5 June, 1882    virat@kohli.com\\n Maria\\t12 April, 2001  maria@sharapova.com\\n Serena  24 June, 1998   serena@williams.com \\n Joe      1 May, 1997    joe@root.com\\n \\n \\n \\n'"
      ]
     },
     "execution_count": 23,
     "metadata": {},
     "output_type": "execute_result"
    }
   ],
   "source": [
    "text=' '.join(text)\n",
    "text"
   ]
  },
  {
   "cell_type": "code",
   "execution_count": 24,
   "id": "2ac186af-95ae-4a03-9a8e-ffa67725e405",
   "metadata": {},
   "outputs": [
    {
     "data": {
      "text/plain": [
       "['virat@kohli.com',\n",
       " 'maria@sharapova.com',\n",
       " 'serena@williams.com',\n",
       " 'joe@root.com']"
      ]
     },
     "execution_count": 24,
     "metadata": {},
     "output_type": "execute_result"
    }
   ],
   "source": [
    "doc=nlp(text)\n",
    "emails=[]\n",
    "for token in doc:\n",
    "    if token.like_email:\n",
    "        emails.append(token.text)\n",
    "emails\n",
    "        "
   ]
  },
  {
   "cell_type": "code",
   "execution_count": 27,
   "id": "e89c9f8e-1583-4db6-aab6-173670e951d7",
   "metadata": {},
   "outputs": [
    {
     "name": "stdout",
     "output_type": "stream",
     "text": [
      "என்னிடம் False False\n",
      "50 False True\n",
      "$ True False\n",
      "தேவையா False False\n",
      "? False False\n",
      ". False False\n",
      "உங்களுக்கு False False\n",
      "தேவைப்பட்டால் False False\n",
      "இதை False False\n",
      "எடுத்துக் False False\n",
      "கொள்ளுங்கள் False False\n"
     ]
    }
   ],
   "source": [
    "nlp=spacy.blank('ta')\n",
    "doc = nlp('என்னிடம் 50$ தேவையா?. உங்களுக்கு தேவைப்பட்டால் இதை எடுத்துக் கொள்ளுங்கள்')\n",
    "for token in doc:\n",
    "    print(token,token.is_currency,token.like_num)"
   ]
  },
  {
   "cell_type": "code",
   "execution_count": 28,
   "id": "d1211426-633a-4ba5-9f64-c7c2116d0051",
   "metadata": {},
   "outputs": [
    {
     "data": {
      "text/plain": [
       "['givmme', 'double', 'cheese', 'extra', 'large', 'healthy', 'pizza']"
      ]
     },
     "execution_count": 28,
     "metadata": {},
     "output_type": "execute_result"
    }
   ],
   "source": [
    "doc=nlp('givmme double cheese extra large healthy pizza')\n",
    "\n",
    "tokens=[token.text  for token in doc]\n",
    "tokens"
   ]
  },
  {
   "cell_type": "code",
   "execution_count": 37,
   "id": "37cb5508-a81c-44be-9a80-810767d63010",
   "metadata": {},
   "outputs": [
    {
     "data": {
      "text/plain": [
       "['gim', 'me', 'double', 'cheese', 'extra', 'large', 'healthy', 'pizza']"
      ]
     },
     "execution_count": 37,
     "metadata": {},
     "output_type": "execute_result"
    }
   ],
   "source": [
    "from spacy.symbols import ORTH\n",
    "\n",
    "\n",
    "nlp.tokenizer.add_special_case('gimme',[\n",
    "    {ORTH: 'gim'},\n",
    "    {ORTH:'me'}\n",
    "])\n",
    "doc=nlp('gimme double cheese extra large healthy pizza')\n",
    "\n",
    "tokens=[token.text  for token in doc]\n",
    "tokens"
   ]
  },
  {
   "cell_type": "code",
   "execution_count": 38,
   "id": "368afd92-4c33-4222-b249-5c7117409196",
   "metadata": {},
   "outputs": [
    {
     "name": "stdout",
     "output_type": "stream",
     "text": [
      "Dr. Strange loves pav bhaji of mumbai.\n",
      "Hulk loves chat of delhi\n"
     ]
    }
   ],
   "source": [
    "doc = nlp('Dr. Strange loves pav bhaji of mumbai. Hulk loves chat of delhi')\n",
    "for sentence in doc.sents:\n",
    "    print(sentence)"
   ]
  },
  {
   "cell_type": "code",
   "execution_count": null,
   "id": "47af62e3-1d35-4837-8ca8-36b6da627342",
   "metadata": {},
   "outputs": [],
   "source": []
  }
 ],
 "metadata": {
  "kernelspec": {
   "display_name": "Python 3 (ipykernel)",
   "language": "python",
   "name": "python3"
  },
  "language_info": {
   "codemirror_mode": {
    "name": "ipython",
    "version": 3
   },
   "file_extension": ".py",
   "mimetype": "text/x-python",
   "name": "python",
   "nbconvert_exporter": "python",
   "pygments_lexer": "ipython3",
   "version": "3.12.4"
  },
  "widgets": {
   "application/vnd.jupyter.widget-state+json": {
    "state": {},
    "version_major": 2,
    "version_minor": 0
   }
  }
 },
 "nbformat": 4,
 "nbformat_minor": 5
}
