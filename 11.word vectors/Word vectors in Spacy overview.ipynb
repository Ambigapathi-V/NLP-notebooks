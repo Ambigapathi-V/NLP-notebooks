{
 "cells": [
  {
   "cell_type": "code",
   "execution_count": 1,
   "id": "a80908f2-7db3-45b0-bb29-cbfd8c8d5989",
   "metadata": {},
   "outputs": [],
   "source": [
    "import spacy\n",
    "nlp=spacy.load('en_core_web_lg')"
   ]
  },
  {
   "cell_type": "code",
   "execution_count": 2,
   "id": "0a8fa00c-1b2b-49d8-b4ce-c5e8e11beabf",
   "metadata": {},
   "outputs": [
    {
     "name": "stdout",
     "output_type": "stream",
     "text": [
      "dog Vector ---> True OOV ---> False\n",
      "cat Vector ---> True OOV ---> False\n",
      "banana Vector ---> True OOV ---> False\n",
      "klem Vector ---> False OOV ---> True\n"
     ]
    }
   ],
   "source": [
    "doc=nlp('dog cat banana klem')\n",
    "\n",
    "for token in doc:\n",
    "    print(token.text,'Vector --->',token.has_vector,'OOV --->',token.is_oov)"
   ]
  },
  {
   "cell_type": "code",
   "execution_count": 3,
   "id": "c97b4625-c10b-46ee-8cc6-b8e5494ae44f",
   "metadata": {},
   "outputs": [
    {
     "data": {
      "text/plain": [
       "(300,)"
      ]
     },
     "execution_count": 3,
     "metadata": {},
     "output_type": "execute_result"
    }
   ],
   "source": [
    "doc[0].vector.shape"
   ]
  },
  {
   "cell_type": "code",
   "execution_count": 4,
   "id": "479807fe-2ba4-4d07-9bf1-7c7b2b095a66",
   "metadata": {},
   "outputs": [
    {
     "data": {
      "text/plain": [
       "(300,)"
      ]
     },
     "execution_count": 4,
     "metadata": {},
     "output_type": "execute_result"
    }
   ],
   "source": [
    "base_token=nlp('bread')\n",
    "base_token.vector.shape"
   ]
  },
  {
   "cell_type": "code",
   "execution_count": 10,
   "id": "d97798b5-904d-411e-9e7c-f5082a935d67",
   "metadata": {},
   "outputs": [
    {
     "name": "stdout",
     "output_type": "stream",
     "text": [
      " baking <--------> bread : 0.6548599979141991\n",
      " bread <--------> bread : 0.9999999744752309\n",
      " sandwich <--------> bread : 0.6341067010130894\n",
      " burger <--------> bread : 0.47520687769584247\n",
      " car <--------> bread : 0.06451533308853552\n",
      " tigger <--------> bread : 0.18514524332244822\n",
      " human <--------> bread : 0.2151154210812192\n",
      " wheat <--------> bread : 0.6150360888607199\n"
     ]
    }
   ],
   "source": [
    "doc=nlp('baking bread sandwich burger car tigger human wheat')\n",
    "\n",
    "for token in doc :\n",
    "    print(f\" {token.text} <--------> {base_token.text} :\",token.similarity(base_token))\n",
    "    "
   ]
  },
  {
   "cell_type": "code",
   "execution_count": 13,
   "id": "ad3b3c84-cbdc-4016-9513-8ec3ca71de17",
   "metadata": {},
   "outputs": [],
   "source": [
    "def print_similarity(base_word,words_to_compare):\n",
    "    base_token=nlp(base_word)\n",
    "    doc=nlp(words_to_compare)\n",
    "    for token in doc:\n",
    "            print(f\" {token.text} <--------> {base_token.text} :\",token.similarity(base_token))\n"
   ]
  },
  {
   "cell_type": "code",
   "execution_count": 15,
   "id": "2889486b-a5af-417b-80d6-9c5ac751470e",
   "metadata": {},
   "outputs": [
    {
     "name": "stdout",
     "output_type": "stream",
     "text": [
      " apple <--------> iphone : 0.4387907401919904\n",
      " samsumg <--------> iphone : 0.0\n",
      " iphone <--------> iphone : 1.000000072144752\n",
      " dog <--------> iphone : 0.08211864228011527\n",
      " kitten <--------> iphone : 0.10222317834969896\n"
     ]
    },
    {
     "name": "stderr",
     "output_type": "stream",
     "text": [
      "C:\\Users\\ambig\\AppData\\Local\\Temp\\ipykernel_21556\\4239150071.py:5: UserWarning: [W008] Evaluating Token.similarity based on empty vectors.\n",
      "  print(f\" {token.text} <--------> {base_token.text} :\",token.similarity(base_token))\n"
     ]
    }
   ],
   "source": [
    "print_similarity('iphone', 'apple samsumg iphone dog kitten')"
   ]
  },
  {
   "cell_type": "code",
   "execution_count": 19,
   "id": "7b0edcf5-65bb-4774-9633-591923d123c8",
   "metadata": {},
   "outputs": [],
   "source": [
    "king = nlp.vocab['king'].vector\n",
    "man = nlp.vocab['man'].vector\n",
    "woman = nlp.vocab['women'].vector\n",
    "queen = nlp.vocab['queen'].vector\n",
    "\n",
    "result=king - man + woman"
   ]
  },
  {
   "cell_type": "code",
   "execution_count": 21,
   "id": "888e2de4-08ac-4374-a8ff-c4e3f5a71d6d",
   "metadata": {},
   "outputs": [
    {
     "data": {
      "text/plain": [
       "array([[0.36506233]], dtype=float32)"
      ]
     },
     "execution_count": 21,
     "metadata": {},
     "output_type": "execute_result"
    }
   ],
   "source": [
    "from sklearn.metrics.pairwise import cosine_similarity\n",
    "\n",
    "cosine_similarity([result],[queen])"
   ]
  },
  {
   "cell_type": "code",
   "execution_count": null,
   "id": "7d07d39d-cdd9-4481-99c0-d436bc16fb39",
   "metadata": {},
   "outputs": [],
   "source": []
  },
  {
   "cell_type": "code",
   "execution_count": null,
   "id": "a6e95bb3-ae48-46f6-8dbf-5e1afc48c980",
   "metadata": {},
   "outputs": [],
   "source": []
  }
 ],
 "metadata": {
  "kernelspec": {
   "display_name": "Python 3 (ipykernel)",
   "language": "python",
   "name": "python3"
  },
  "language_info": {
   "codemirror_mode": {
    "name": "ipython",
    "version": 3
   },
   "file_extension": ".py",
   "mimetype": "text/x-python",
   "name": "python",
   "nbconvert_exporter": "python",
   "pygments_lexer": "ipython3",
   "version": "3.12.4"
  },
  "widgets": {
   "application/vnd.jupyter.widget-state+json": {
    "state": {},
    "version_major": 2,
    "version_minor": 0
   }
  }
 },
 "nbformat": 4,
 "nbformat_minor": 5
}
