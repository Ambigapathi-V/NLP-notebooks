{
 "cells": [
  {
   "cell_type": "code",
   "execution_count": null,
   "id": "48ceb713-b585-4b51-be60-ae9d0c27bcc9",
   "metadata": {},
   "outputs": [],
   "source": []
  }
 ],
 "metadata": {
  "kernelspec": {
   "display_name": "",
   "name": ""
  },
  "language_info": {
   "name": ""
  }
 },
 "nbformat": 4,
 "nbformat_minor": 5
}
