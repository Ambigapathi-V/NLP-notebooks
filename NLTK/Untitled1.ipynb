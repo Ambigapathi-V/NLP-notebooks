{
 "cells": [
  {
   "cell_type": "code",
   "execution_count": 1,
   "id": "48ceb713-b585-4b51-be60-ae9d0c27bcc9",
   "metadata": {},
   "outputs": [],
   "source": [
    "from nltk.stem import PorterStemmer\n",
    "stemming = PorterStemmer()"
   ]
  },
  {
   "cell_type": "code",
   "execution_count": 3,
   "id": "d4515499-c854-4546-8fb1-7765fc380564",
   "metadata": {},
   "outputs": [],
   "source": [
    "words = ['Normalize',\n",
    "'Reduce',\n",
    "'Strip',\n",
    "'Match',\n",
    "'Transform',\n",
    "'Unify',\n",
    "'Enhance',\n",
    "'Process',\n",
    "'Analyze',\n",
    "'Retrieve']"
   ]
  },
  {
   "cell_type": "code",
   "execution_count": 5,
   "id": "5abf4de2-11d4-4a78-8d65-df92bfbdab20",
   "metadata": {},
   "outputs": [
    {
     "name": "stdout",
     "output_type": "stream",
     "text": [
      "Normalize -----> normal\n",
      "Reduce -----> reduc\n",
      "Strip -----> strip\n",
      "Match -----> match\n",
      "Transform -----> transform\n",
      "Unify -----> unifi\n",
      "Enhance -----> enhanc\n",
      "Process -----> process\n",
      "Analyze -----> analyz\n",
      "Retrieve -----> retriev\n"
     ]
    }
   ],
   "source": [
    "for word in words:\n",
    "    print(word,'----->',stemming.stem(word))"
   ]
  },
  {
   "cell_type": "code",
   "execution_count": 15,
   "id": "e602895c-376f-41f1-a46a-e294fd5a3e52",
   "metadata": {},
   "outputs": [],
   "source": [
    "from nltk.stem import RegexpStemmer\n",
    "reg_stemmer = RegexpStemmer('ings$|s$|e$|able$',min=4)"
   ]
  },
  {
   "cell_type": "code",
   "execution_count": 17,
   "id": "0ad498fd-02eb-4f05-b5f5-4b420f829663",
   "metadata": {},
   "outputs": [
    {
     "data": {
      "text/plain": [
       "'enhanc'"
      ]
     },
     "execution_count": 17,
     "metadata": {},
     "output_type": "execute_result"
    }
   ],
   "source": [
    "reg_stemmer.stem('enhance')"
   ]
  },
  {
   "cell_type": "code",
   "execution_count": null,
   "id": "f0048fec-9c5a-47cc-bd54-f18ea361454c",
   "metadata": {},
   "outputs": [],
   "source": []
  }
 ],
 "metadata": {
  "kernelspec": {
   "display_name": "Python 3 (ipykernel)",
   "language": "python",
   "name": "python3"
  },
  "language_info": {
   "codemirror_mode": {
    "name": "ipython",
    "version": 3
   },
   "file_extension": ".py",
   "mimetype": "text/x-python",
   "name": "python",
   "nbconvert_exporter": "python",
   "pygments_lexer": "ipython3",
   "version": "3.12.4"
  }
 },
 "nbformat": 4,
 "nbformat_minor": 5
}
