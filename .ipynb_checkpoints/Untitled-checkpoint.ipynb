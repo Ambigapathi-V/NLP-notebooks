{
 "cells": [
  {
   "cell_type": "code",
   "execution_count": 1,
   "id": "bf0859bc-f0ba-421b-ad02-ddc4136de279",
   "metadata": {},
   "outputs": [],
   "source": [
    "corpus = '''\n",
    "Molecular coding is a critical aspect of machine learning in cheminformatics, enabling the representation of complex molecular structures in a format that algorithms can process. One common method is the use of SMILES (Simplified Molecular Input Line Entry System), which encodes molecular information as a string of characters. This representation allows for easy storage and manipulation of molecular data. Libraries like RDKit can convert SMILES into graph structures, making it possible to analyze the relationships between atoms and bonds within the molecule. By transforming these structures into a suitable format, researchers can apply various machine learning models to predict molecular properties or activities.\n",
    "\n",
    "Another widely used technique is molecular fingerprints, which provide a fixed-length representation of a molecule's structure by encoding the presence or absence of specific substructures. Fingerprints like MACCS keys and ECFP capture essential features of the molecules and allow for efficient similarity searching and clustering. This encoding is particularly useful in drug discovery, where identifying similar compounds can expedite the screening process. By leveraging these molecular coding techniques, machine learning models can better understand and predict the behaviors of complex chemical compounds, ultimately driving advancements in pharmaceutical research and development.\n",
    "'''"
   ]
  },
  {
   "cell_type": "code",
   "execution_count": 2,
   "id": "7b9910f6-a285-4ca1-9bb8-b2cfdaab1c3d",
   "metadata": {},
   "outputs": [
    {
     "name": "stdout",
     "output_type": "stream",
     "text": [
      "\n",
      "Molecular coding is a critical aspect of machine learning in cheminformatics, enabling the representation of complex molecular structures in a format that algorithms can process. One common method is the use of SMILES (Simplified Molecular Input Line Entry System), which encodes molecular information as a string of characters. This representation allows for easy storage and manipulation of molecular data. Libraries like RDKit can convert SMILES into graph structures, making it possible to analyze the relationships between atoms and bonds within the molecule. By transforming these structures into a suitable format, researchers can apply various machine learning models to predict molecular properties or activities.\n",
      "\n",
      "Another widely used technique is molecular fingerprints, which provide a fixed-length representation of a molecule's structure by encoding the presence or absence of specific substructures. Fingerprints like MACCS keys and ECFP capture essential features of the molecules and allow for efficient similarity searching and clustering. This encoding is particularly useful in drug discovery, where identifying similar compounds can expedite the screening process. By leveraging these molecular coding techniques, machine learning models can better understand and predict the behaviors of complex chemical compounds, ultimately driving advancements in pharmaceutical research and development.\n",
      "\n"
     ]
    }
   ],
   "source": [
    "print(corpus)"
   ]
  },
  {
   "cell_type": "code",
   "execution_count": 3,
   "id": "2f4ac5ba-8ac0-4889-ad89-26ad3a14c725",
   "metadata": {},
   "outputs": [],
   "source": [
    "from nltk.tokenize import sent_tokenize"
   ]
  },
  {
   "cell_type": "code",
   "execution_count": 5,
   "id": "30498168-24fe-49ac-9398-8373193296dc",
   "metadata": {},
   "outputs": [],
   "source": [
    "doccuments = sent_tokenize(corpus)"
   ]
  },
  {
   "cell_type": "code",
   "execution_count": 7,
   "id": "e0e6ea7e-fe46-44ca-8901-33cf6f8c6123",
   "metadata": {},
   "outputs": [
    {
     "data": {
      "text/plain": [
       "list"
      ]
     },
     "execution_count": 7,
     "metadata": {},
     "output_type": "execute_result"
    }
   ],
   "source": [
    "type(doccuments)"
   ]
  },
  {
   "cell_type": "code",
   "execution_count": 8,
   "id": "994c19d3-f896-4472-8d09-e52bf998d096",
   "metadata": {},
   "outputs": [
    {
     "name": "stdout",
     "output_type": "stream",
     "text": [
      "\n",
      "Molecular coding is a critical aspect of machine learning in cheminformatics, enabling the representation of complex molecular structures in a format that algorithms can process.\n",
      "One common method is the use of SMILES (Simplified Molecular Input Line Entry System), which encodes molecular information as a string of characters.\n",
      "This representation allows for easy storage and manipulation of molecular data.\n",
      "Libraries like RDKit can convert SMILES into graph structures, making it possible to analyze the relationships between atoms and bonds within the molecule.\n",
      "By transforming these structures into a suitable format, researchers can apply various machine learning models to predict molecular properties or activities.\n",
      "Another widely used technique is molecular fingerprints, which provide a fixed-length representation of a molecule's structure by encoding the presence or absence of specific substructures.\n",
      "Fingerprints like MACCS keys and ECFP capture essential features of the molecules and allow for efficient similarity searching and clustering.\n",
      "This encoding is particularly useful in drug discovery, where identifying similar compounds can expedite the screening process.\n",
      "By leveraging these molecular coding techniques, machine learning models can better understand and predict the behaviors of complex chemical compounds, ultimately driving advancements in pharmaceutical research and development.\n"
     ]
    }
   ],
   "source": [
    "for sentence in doccuments:\n",
    "    print(sentence)"
   ]
  },
  {
   "cell_type": "code",
   "execution_count": null,
   "id": "ffe26fd1-6cdc-4986-a1c6-bd1549f3e4ec",
   "metadata": {},
   "outputs": [],
   "source": []
  }
 ],
 "metadata": {
  "kernelspec": {
   "display_name": "Python 3 (ipykernel)",
   "language": "python",
   "name": "python3"
  },
  "language_info": {
   "codemirror_mode": {
    "name": "ipython",
    "version": 3
   },
   "file_extension": ".py",
   "mimetype": "text/x-python",
   "name": "python",
   "nbconvert_exporter": "python",
   "pygments_lexer": "ipython3",
   "version": "3.12.4"
  }
 },
 "nbformat": 4,
 "nbformat_minor": 5
}
